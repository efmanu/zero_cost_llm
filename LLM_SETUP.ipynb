{
 "cells": [
  {
   "cell_type": "markdown",
   "id": "4913dc49-e943-485a-81a3-f66220a184ce",
   "metadata": {},
   "source": [
    "# LLM SETUP - STEP BY STEP GUIDE"
   ]
  },
  {
   "cell_type": "markdown",
   "id": "39a4499f-2a69-4ba4-875e-e3ec7142da9e",
   "metadata": {},
   "source": [
    "## Install Required Packages"
   ]
  },
  {
   "cell_type": "code",
   "execution_count": 8,
   "id": "23361e5c-1583-4c54-9dd3-82def2dd7584",
   "metadata": {},
   "outputs": [
    {
     "name": "stdout",
     "output_type": "stream",
     "text": [
      "\u001b[33mWARNING: You are using pip version 21.3.1; however, version 24.3.1 is available.\n",
      "You should consider upgrading via the '/Users/shilpakjose/Desktop/manu/OpenSource/llmSetup/venv/bin/python -m pip install --upgrade pip' command.\u001b[0m\n"
     ]
    }
   ],
   "source": [
    "!pip install --upgrade --quiet langchain transformers torch langchain-huggingface\n"
   ]
  },
  {
   "cell_type": "markdown",
   "id": "69fe55a7-9a05-47da-874c-70600cf4b75a",
   "metadata": {},
   "source": [
    "## Import Required Packages"
   ]
  },
  {
   "cell_type": "code",
   "execution_count": 11,
   "id": "f496bcd1-988d-4fa5-a929-5d8254ae1f6e",
   "metadata": {},
   "outputs": [
    {
     "name": "stderr",
     "output_type": "stream",
     "text": [
      "Device set to use mps:0\n"
     ]
    }
   ],
   "source": [
    "from langchain_huggingface.llms import HuggingFacePipeline\n",
    "from langchain_core.prompts import PromptTemplate\n"
   ]
  },
  {
   "cell_type": "markdown",
   "id": "83810ad1-3823-4da5-9739-df8fe1079713",
   "metadata": {},
   "source": [
    "## Initialise Huggingface Pipeline"
   ]
  },
  {
   "cell_type": "code",
   "execution_count": null,
   "id": "82305c1f-d193-45ba-b6b0-d18b3e4d4bc9",
   "metadata": {},
   "outputs": [],
   "source": [
    "hf = HuggingFacePipeline.from_model_id(\n",
    "    model_id=\"gpt2\",\n",
    "    task=\"text-generation\",\n",
    "    pipeline_kwargs={\"max_new_tokens\": 300},\n",
    ")"
   ]
  },
  {
   "cell_type": "markdown",
   "id": "30589880-f282-4ed3-a2bd-7de5bc44f6f9",
   "metadata": {},
   "source": [
    "## Create Prompt Template"
   ]
  },
  {
   "cell_type": "code",
   "execution_count": null,
   "id": "967e3085-f82b-430c-8119-dbbea87ff3ee",
   "metadata": {},
   "outputs": [],
   "source": [
    "template = \"\"\"Question: {question}\n",
    "\n",
    "Answer: Let's think step by step.\"\"\"\n",
    "prompt = PromptTemplate.from_template(template)"
   ]
  },
  {
   "cell_type": "markdown",
   "id": "62d0580c-43f3-48e0-9ce9-a22fd55242fe",
   "metadata": {},
   "source": [
    "## Run Chain"
   ]
  },
  {
   "cell_type": "code",
   "execution_count": 12,
   "id": "78f759c8-3693-47f3-94d9-c889738a8e3f",
   "metadata": {},
   "outputs": [
    {
     "name": "stdout",
     "output_type": "stream",
     "text": [
      "Question: What is a transistor in electronics?\n",
      "\n",
      "Answer: Let's think step by step. Consider the following:\n",
      "\n",
      "A transistor needs to have at least two gates. Each gate acts at different speeds. That's probably about the speed at which a wire can be wire twisted together on its two terminals. In order to see the length of a wire, measure the voltage along each side of that wire. (Note that voltage is measured as two different measurements.)\n",
      "\n",
      "A transistor needs at least two gates. Each gate acts at different speeds. That's probably about the speed at which a wire can be wire twisted together on its two terminals. In order to see the length of a wire, measure the voltage along each side of that wire. (Note that voltage is measured as two different measurements.) A transistor needs a wire that, when twisted, acts at about the same speed as the wire that is connected to it. (Note that the wire used is only part of the current current, so the voltage in any one wire is likely to vary from one wire to another wire.) (Note that a typical transistor uses about half the current current as well.)\n",
      "\n",
      "A transistor needs a wire that, when twisted, acts at about the same speed as the wire that is connected to it. (Note that the wire used is only part of the current current, so the voltage in any one wire is likely to vary from one wire to another wire.) (Note that a typical transistor uses about half the current current as well.) A transistor needs a wire that, when twisted, acts at\n"
     ]
    }
   ],
   "source": [
    "\n",
    "chain = prompt | hf\n",
    "\n",
    "question = \"What is a transistor in electronics?\"\n",
    "\n",
    "print(chain.invoke({\"question\": question}))"
   ]
  }
 ],
 "metadata": {
  "kernelspec": {
   "display_name": "Python 3 (ipykernel)",
   "language": "python",
   "name": "python3"
  },
  "language_info": {
   "codemirror_mode": {
    "name": "ipython",
    "version": 3
   },
   "file_extension": ".py",
   "mimetype": "text/x-python",
   "name": "python",
   "nbconvert_exporter": "python",
   "pygments_lexer": "ipython3",
   "version": "3.11.0"
  }
 },
 "nbformat": 4,
 "nbformat_minor": 5
}
